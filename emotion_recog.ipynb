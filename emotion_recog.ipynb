{
  "nbformat": 4,
  "nbformat_minor": 0,
  "metadata": {
    "colab": {
      "name": "emotion_recog.ipynb",
      "provenance": [],
      "collapsed_sections": [],
      "mount_file_id": "11kvaX2L-411395SKVnHFOvl3S5KTs07l",
      "authorship_tag": "ABX9TyMeDC7XFifwRv3eo+bhvTgK",
      "include_colab_link": true
    },
    "kernelspec": {
      "name": "python3",
      "display_name": "Python 3"
    },
    "accelerator": "GPU"
  },
  "cells": [
    {
      "cell_type": "markdown",
      "metadata": {
        "id": "view-in-github",
        "colab_type": "text"
      },
      "source": [
        "<a href=\"https://colab.research.google.com/github/manohar2000/Technocollab_DataScience/blob/master/emotion_recog.ipynb\" target=\"_parent\"><img src=\"https://colab.research.google.com/assets/colab-badge.svg\" alt=\"Open In Colab\"/></a>"
      ]
    },
    {
      "cell_type": "code",
      "metadata": {
        "id": "fdGq3l7LixC4",
        "colab_type": "code",
        "colab": {
          "base_uri": "https://localhost:8080/",
          "height": 102
        },
        "outputId": "6de673bd-5631-4281-dac7-f9df05e9e395"
      },
      "source": [
        "import os\n",
        "os.chdir(\"/content/drive/My Drive/Projects/Face_recog\")\n",
        "os.listdir('.')"
      ],
      "execution_count": 2,
      "outputs": [
        {
          "output_type": "execute_result",
          "data": {
            "text/plain": [
              "['haarcascade_frontalface_default.xml',\n",
              " 'fer2013.csv',\n",
              " '.ipynb_checkpoints',\n",
              " 'fer.json',\n",
              " 'fer.h5']"
            ]
          },
          "metadata": {
            "tags": []
          },
          "execution_count": 2
        }
      ]
    },
    {
      "cell_type": "code",
      "metadata": {
        "id": "QoiIOOL7ivdr",
        "colab_type": "code",
        "colab": {}
      },
      "source": [
        "import sys, os\n",
        "import pandas as pd\n",
        "import numpy as np"
      ],
      "execution_count": null,
      "outputs": []
    },
    {
      "cell_type": "code",
      "metadata": {
        "id": "BD0LxeKwxite",
        "colab_type": "code",
        "colab": {}
      },
      "source": [
        "from keras.models import Sequential\n",
        "from keras.layers import Dense, Dropout, Activation, Flatten\n",
        "from keras.layers import Conv2D, MaxPooling2D, BatchNormalization,AveragePooling2D\n",
        "from keras.losses import categorical_crossentropy\n",
        "from keras.optimizers import Adam\n",
        "from keras.regularizers import l2\n",
        "from keras.utils import np_utils\n",
        "# pd.set_option('display.max_rows', 500)\n",
        "# pd.set_option('display.max_columns', 500)\n",
        "# pd.set_option('display.width', 1000)"
      ],
      "execution_count": null,
      "outputs": []
    },
    {
      "cell_type": "code",
      "metadata": {
        "id": "nhoNGatYxmYI",
        "colab_type": "code",
        "colab": {}
      },
      "source": [
        "df=pd.read_csv('fer2013.csv')"
      ],
      "execution_count": null,
      "outputs": []
    },
    {
      "cell_type": "code",
      "metadata": {
        "id": "y-DrvVUFxrPq",
        "colab_type": "code",
        "colab": {}
      },
      "source": [
        "# print(df.info())\n",
        "# print(df[\"Usage\"].value_counts())\n",
        "\n",
        "# print(df.head())\n",
        "X_train,train_y,X_test,test_y=[],[],[],[]\n",
        "\n",
        "for index, row in df.iterrows():\n",
        "    val=row['pixels'].split(\" \")\n",
        "    try:\n",
        "        if 'Training' in row['Usage']:\n",
        "           X_train.append(np.array(val,'float32'))\n",
        "           train_y.append(row['emotion'])\n",
        "        elif 'PublicTest' in row['Usage']:\n",
        "           X_test.append(np.array(val,'float32'))\n",
        "           test_y.append(row['emotion'])\n",
        "    except:\n",
        "        print(f\"error occured at index :{index} and row:{row}\")\n"
      ],
      "execution_count": null,
      "outputs": []
    },
    {
      "cell_type": "code",
      "metadata": {
        "id": "i84nhaKZx2Bo",
        "colab_type": "code",
        "colab": {}
      },
      "source": [
        "num_features = 64\n",
        "num_labels = 7\n",
        "batch_size = 64\n",
        "epochs = 30\n",
        "width, height = 48, 48\n",
        "\n",
        "\n",
        "X_train = np.array(X_train,'float32')\n",
        "train_y = np.array(train_y,'float32')\n",
        "X_test = np.array(X_test,'float32')\n",
        "test_y = np.array(test_y,'float32')\n",
        "\n",
        "train_y=np_utils.to_categorical(train_y, num_classes=num_labels)\n",
        "test_y=np_utils.to_categorical(test_y, num_classes=num_labels)\n",
        "\n",
        "#cannot produce\n",
        "#normalizing data between oand 1\n",
        "X_train -= np.mean(X_train, axis=0)\n",
        "X_train /= np.std(X_train, axis=0)\n",
        "\n",
        "X_test -= np.mean(X_test, axis=0)\n",
        "X_test /= np.std(X_test, axis=0)\n",
        "\n",
        "X_train = X_train.reshape(X_train.shape[0], 48, 48, 1)\n",
        "\n",
        "X_test = X_test.reshape(X_test.shape[0], 48, 48, 1)"
      ],
      "execution_count": null,
      "outputs": []
    },
    {
      "cell_type": "code",
      "metadata": {
        "id": "4nnXgTImQ4lX",
        "colab_type": "code",
        "colab": {}
      },
      "source": [
        "# print(f\"shape:{X_train.shape}\")\n",
        "##designing the cnn\n",
        "#1st convolution layer\n",
        "model = Sequential()\n",
        "\n",
        "model.add(Conv2D(64, kernel_size=(3, 3), activation='relu', input_shape=(X_train.shape[1:])))\n",
        "model.add(Conv2D(64,kernel_size= (3, 3), activation='relu'))\n",
        "# model.add(BatchNormalization())\n",
        "model.add(MaxPooling2D(pool_size=(2,2), strides=(2, 2)))\n",
        "model.add(Dropout(0.5))\n",
        "\n",
        "#2nd convolution layer\n",
        "model.add(Conv2D(64, (3, 3), activation='relu'))\n",
        "model.add(Conv2D(64, (3, 3), activation='relu'))\n",
        "# model.add(BatchNormalization())\n",
        "model.add(MaxPooling2D(pool_size=(2,2), strides=(2, 2)))\n",
        "model.add(Dropout(0.5))\n",
        "\n",
        "#3rd convolution layer\n",
        "model.add(Conv2D(128, (3, 3), activation='relu'))\n",
        "model.add(Conv2D(128, (3, 3), activation='relu'))\n",
        "# model.add(BatchNormalization())\n",
        "model.add(MaxPooling2D(pool_size=(2,2), strides=(2, 2)))\n",
        "\n",
        "model.add(Flatten())\n",
        "\n",
        "#fully connected neural networks\n",
        "model.add(Dense(1024, activation='relu'))\n",
        "model.add(Dropout(0.2))\n",
        "model.add(Dense(1024, activation='relu'))\n",
        "model.add(Dropout(0.2))\n",
        "\n",
        "model.add(Dense(num_labels, activation='softmax'))\n"
      ],
      "execution_count": null,
      "outputs": []
    },
    {
      "cell_type": "code",
      "metadata": {
        "id": "6_NV-2RsRA9n",
        "colab_type": "code",
        "colab": {
          "base_uri": "https://localhost:8080/",
          "height": 1000
        },
        "outputId": "437bff03-bd5c-4cac-fb58-84380ac964e3"
      },
      "source": [
        "model.compile(loss=categorical_crossentropy,\n",
        "              optimizer=Adam(),\n",
        "              metrics=['accuracy'])\n",
        "\n",
        "#Training the model\n",
        "model.fit(X_train, train_y,\n",
        "          batch_size=batch_size,\n",
        "          epochs=epochs,\n",
        "          verbose=1,\n",
        "          validation_data=(X_test, test_y),\n",
        "          shuffle=True)\n"
      ],
      "execution_count": null,
      "outputs": [
        {
          "output_type": "stream",
          "text": [
            "Epoch 1/30\n",
            "449/449 [==============================] - 18s 40ms/step - loss: 1.7417 - accuracy: 0.2841 - val_loss: 1.6111 - val_accuracy: 0.3530\n",
            "Epoch 2/30\n",
            "449/449 [==============================] - 17s 39ms/step - loss: 1.5368 - accuracy: 0.3970 - val_loss: 1.3935 - val_accuracy: 0.4589\n",
            "Epoch 3/30\n",
            "449/449 [==============================] - 17s 38ms/step - loss: 1.4230 - accuracy: 0.4496 - val_loss: 1.3507 - val_accuracy: 0.4876\n",
            "Epoch 4/30\n",
            "449/449 [==============================] - 17s 39ms/step - loss: 1.3655 - accuracy: 0.4744 - val_loss: 1.3156 - val_accuracy: 0.4937\n",
            "Epoch 5/30\n",
            "449/449 [==============================] - 17s 38ms/step - loss: 1.3129 - accuracy: 0.4943 - val_loss: 1.2599 - val_accuracy: 0.5238\n",
            "Epoch 6/30\n",
            "449/449 [==============================] - 17s 38ms/step - loss: 1.2717 - accuracy: 0.5110 - val_loss: 1.2289 - val_accuracy: 0.5294\n",
            "Epoch 7/30\n",
            "449/449 [==============================] - 17s 39ms/step - loss: 1.2425 - accuracy: 0.5233 - val_loss: 1.2439 - val_accuracy: 0.5241\n",
            "Epoch 8/30\n",
            "449/449 [==============================] - 17s 38ms/step - loss: 1.2130 - accuracy: 0.5334 - val_loss: 1.2489 - val_accuracy: 0.5183\n",
            "Epoch 9/30\n",
            "449/449 [==============================] - 17s 39ms/step - loss: 1.1871 - accuracy: 0.5465 - val_loss: 1.1907 - val_accuracy: 0.5525\n",
            "Epoch 10/30\n",
            "449/449 [==============================] - 17s 38ms/step - loss: 1.1680 - accuracy: 0.5521 - val_loss: 1.1886 - val_accuracy: 0.5495\n",
            "Epoch 11/30\n",
            "449/449 [==============================] - 17s 38ms/step - loss: 1.1491 - accuracy: 0.5593 - val_loss: 1.1955 - val_accuracy: 0.5525\n",
            "Epoch 12/30\n",
            "449/449 [==============================] - 17s 39ms/step - loss: 1.1325 - accuracy: 0.5640 - val_loss: 1.1778 - val_accuracy: 0.5598\n",
            "Epoch 13/30\n",
            "449/449 [==============================] - 17s 39ms/step - loss: 1.1210 - accuracy: 0.5707 - val_loss: 1.1621 - val_accuracy: 0.5606\n",
            "Epoch 14/30\n",
            "449/449 [==============================] - 17s 38ms/step - loss: 1.1007 - accuracy: 0.5779 - val_loss: 1.1590 - val_accuracy: 0.5508\n",
            "Epoch 15/30\n",
            "449/449 [==============================] - 17s 38ms/step - loss: 1.0804 - accuracy: 0.5848 - val_loss: 1.1623 - val_accuracy: 0.5678\n",
            "Epoch 16/30\n",
            "449/449 [==============================] - 17s 39ms/step - loss: 1.0663 - accuracy: 0.5897 - val_loss: 1.1771 - val_accuracy: 0.5614\n",
            "Epoch 17/30\n",
            "449/449 [==============================] - 17s 39ms/step - loss: 1.0464 - accuracy: 0.5952 - val_loss: 1.1748 - val_accuracy: 0.5534\n",
            "Epoch 18/30\n",
            "449/449 [==============================] - 17s 39ms/step - loss: 1.0308 - accuracy: 0.6056 - val_loss: 1.1975 - val_accuracy: 0.5561\n",
            "Epoch 19/30\n",
            "449/449 [==============================] - 17s 39ms/step - loss: 1.0230 - accuracy: 0.6131 - val_loss: 1.1886 - val_accuracy: 0.5606\n",
            "Epoch 20/30\n",
            "449/449 [==============================] - 17s 39ms/step - loss: 1.0100 - accuracy: 0.6120 - val_loss: 1.1933 - val_accuracy: 0.5444\n",
            "Epoch 21/30\n",
            "449/449 [==============================] - 17s 39ms/step - loss: 0.9930 - accuracy: 0.6222 - val_loss: 1.1884 - val_accuracy: 0.5589\n",
            "Epoch 22/30\n",
            "449/449 [==============================] - 17s 39ms/step - loss: 0.9766 - accuracy: 0.6257 - val_loss: 1.1796 - val_accuracy: 0.5550\n",
            "Epoch 23/30\n",
            "449/449 [==============================] - 17s 39ms/step - loss: 0.9557 - accuracy: 0.6352 - val_loss: 1.1869 - val_accuracy: 0.5573\n",
            "Epoch 24/30\n",
            "449/449 [==============================] - 17s 39ms/step - loss: 0.9484 - accuracy: 0.6399 - val_loss: 1.1802 - val_accuracy: 0.5609\n",
            "Epoch 25/30\n",
            "449/449 [==============================] - 17s 39ms/step - loss: 0.9251 - accuracy: 0.6503 - val_loss: 1.2295 - val_accuracy: 0.5642\n",
            "Epoch 26/30\n",
            "449/449 [==============================] - 17s 38ms/step - loss: 0.9228 - accuracy: 0.6477 - val_loss: 1.1796 - val_accuracy: 0.5639\n",
            "Epoch 27/30\n",
            "449/449 [==============================] - 17s 38ms/step - loss: 0.8983 - accuracy: 0.6557 - val_loss: 1.2071 - val_accuracy: 0.5614\n",
            "Epoch 28/30\n",
            "449/449 [==============================] - 17s 38ms/step - loss: 0.8867 - accuracy: 0.6613 - val_loss: 1.2084 - val_accuracy: 0.5698\n",
            "Epoch 29/30\n",
            "449/449 [==============================] - 17s 38ms/step - loss: 0.8716 - accuracy: 0.6685 - val_loss: 1.2000 - val_accuracy: 0.5684\n",
            "Epoch 30/30\n",
            "449/449 [==============================] - 17s 38ms/step - loss: 0.8600 - accuracy: 0.6719 - val_loss: 1.2194 - val_accuracy: 0.5623\n"
          ],
          "name": "stdout"
        },
        {
          "output_type": "execute_result",
          "data": {
            "text/plain": [
              "<tensorflow.python.keras.callbacks.History at 0x7fe5df02e748>"
            ]
          },
          "metadata": {
            "tags": []
          },
          "execution_count": 17
        }
      ]
    },
    {
      "cell_type": "code",
      "metadata": {
        "id": "0BlDtdzfREPv",
        "colab_type": "code",
        "colab": {}
      },
      "source": [
        "fer_json = model.to_json()\n",
        "with open(\"fer.json\", \"w\") as json_file:\n",
        "    json_file.write(fer_json)\n",
        "model.save_weights(\"fer.h5\")"
      ],
      "execution_count": null,
      "outputs": []
    }
  ]
}